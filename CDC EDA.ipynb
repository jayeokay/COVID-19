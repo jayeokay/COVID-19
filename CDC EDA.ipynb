{
 "cells": [
  {
   "cell_type": "markdown",
   "metadata": {},
   "source": [
    "Link to dataset: https://data.cdc.gov/NCHS/Conditions-contributing-to-deaths-involving-corona/hk9y-quqm \n",
    "\n",
    "data only within US\n",
    "\n",
    "\n",
    "## Quick EDA on the CDC comorbidity dataset"
   ]
  },
  {
   "cell_type": "code",
   "execution_count": 192,
   "metadata": {},
   "outputs": [],
   "source": [
    "#import libraries\n",
    "\n",
    "import pandas as pd\n",
    "from sodapy import Socrata #used for interacting with SODA API\n",
    "import matplotlib.pyplot as plt"
   ]
  },
  {
   "cell_type": "code",
   "execution_count": 3,
   "metadata": {},
   "outputs": [],
   "source": [
    "# help(Socrata) #show all the stuff you can do with Socrata class"
   ]
  },
  {
   "cell_type": "code",
   "execution_count": 4,
   "metadata": {},
   "outputs": [
    {
     "name": "stderr",
     "output_type": "stream",
     "text": [
      "WARNING:root:Requests made without an app_token will be subject to strict throttling limits.\n"
     ]
    }
   ],
   "source": [
    "#define important variables\n",
    "DATASET_ID = 'hk9y-quqm'\n",
    "APP_TOKEN = None\n",
    "\n",
    "#create an interface to the cdc website, to access datasets\n",
    "client = Socrata('data.cdc.gov', APP_TOKEN)"
   ]
  },
  {
   "cell_type": "markdown",
   "metadata": {},
   "source": [
    "## Querying with SODA API\n",
    "For tags to query by, see the CDC API here: https://dev.socrata.com/foundry/data.cdc.gov/hk9y-quqm\n",
    "\n",
    "For documentation on SQL-like querying, see here: https://dev.socrata.com/docs/queries/"
   ]
  },
  {
   "cell_type": "code",
   "execution_count": 13,
   "metadata": {},
   "outputs": [
    {
     "data": {
      "text/plain": [
       "12330"
      ]
     },
     "execution_count": 13,
     "metadata": {},
     "output_type": "execute_result"
    }
   ],
   "source": [
    "#an example query to the dataset\n",
    "#just get all of them, honestly\n",
    "results = client.get(DATASET_ID, limit = 12500)\n",
    "len(results)"
   ]
  },
  {
   "cell_type": "code",
   "execution_count": 119,
   "metadata": {},
   "outputs": [
    {
     "data": {
      "text/html": [
       "<div>\n",
       "<style scoped>\n",
       "    .dataframe tbody tr th:only-of-type {\n",
       "        vertical-align: middle;\n",
       "    }\n",
       "\n",
       "    .dataframe tbody tr th {\n",
       "        vertical-align: top;\n",
       "    }\n",
       "\n",
       "    .dataframe thead th {\n",
       "        text-align: right;\n",
       "    }\n",
       "</style>\n",
       "<table border=\"1\" class=\"dataframe\">\n",
       "  <thead>\n",
       "    <tr style=\"text-align: right;\">\n",
       "      <th></th>\n",
       "      <th>data_as_of</th>\n",
       "      <th>start_week</th>\n",
       "      <th>end_week</th>\n",
       "      <th>state</th>\n",
       "      <th>condition_group</th>\n",
       "      <th>condition</th>\n",
       "      <th>icd10_codes</th>\n",
       "      <th>age_group</th>\n",
       "      <th>number_covid19_deaths</th>\n",
       "      <th>flag</th>\n",
       "    </tr>\n",
       "  </thead>\n",
       "  <tbody>\n",
       "    <tr>\n",
       "      <th>0</th>\n",
       "      <td>2020-11-04T00:00:00.000</td>\n",
       "      <td>2020-02-01T00:00:00.000</td>\n",
       "      <td>2020-10-31T00:00:00.000</td>\n",
       "      <td>US</td>\n",
       "      <td>Respiratory diseases</td>\n",
       "      <td>Influenza and pneumonia</td>\n",
       "      <td>J09-J18</td>\n",
       "      <td>0-24</td>\n",
       "      <td>160</td>\n",
       "      <td>NaN</td>\n",
       "    </tr>\n",
       "    <tr>\n",
       "      <th>1</th>\n",
       "      <td>2020-11-04T00:00:00.000</td>\n",
       "      <td>2020-02-01T00:00:00.000</td>\n",
       "      <td>2020-10-31T00:00:00.000</td>\n",
       "      <td>US</td>\n",
       "      <td>Respiratory diseases</td>\n",
       "      <td>Influenza and pneumonia</td>\n",
       "      <td>J09-J18</td>\n",
       "      <td>25-34</td>\n",
       "      <td>764</td>\n",
       "      <td>NaN</td>\n",
       "    </tr>\n",
       "    <tr>\n",
       "      <th>2</th>\n",
       "      <td>2020-11-04T00:00:00.000</td>\n",
       "      <td>2020-02-01T00:00:00.000</td>\n",
       "      <td>2020-10-31T00:00:00.000</td>\n",
       "      <td>US</td>\n",
       "      <td>Respiratory diseases</td>\n",
       "      <td>Influenza and pneumonia</td>\n",
       "      <td>J09-J18</td>\n",
       "      <td>35-44</td>\n",
       "      <td>1951</td>\n",
       "      <td>NaN</td>\n",
       "    </tr>\n",
       "    <tr>\n",
       "      <th>3</th>\n",
       "      <td>2020-11-04T00:00:00.000</td>\n",
       "      <td>2020-02-01T00:00:00.000</td>\n",
       "      <td>2020-10-31T00:00:00.000</td>\n",
       "      <td>US</td>\n",
       "      <td>Respiratory diseases</td>\n",
       "      <td>Influenza and pneumonia</td>\n",
       "      <td>J09-J18</td>\n",
       "      <td>45-54</td>\n",
       "      <td>5526</td>\n",
       "      <td>NaN</td>\n",
       "    </tr>\n",
       "    <tr>\n",
       "      <th>4</th>\n",
       "      <td>2020-11-04T00:00:00.000</td>\n",
       "      <td>2020-02-01T00:00:00.000</td>\n",
       "      <td>2020-10-31T00:00:00.000</td>\n",
       "      <td>US</td>\n",
       "      <td>Respiratory diseases</td>\n",
       "      <td>Influenza and pneumonia</td>\n",
       "      <td>J09-J18</td>\n",
       "      <td>55-64</td>\n",
       "      <td>13332</td>\n",
       "      <td>NaN</td>\n",
       "    </tr>\n",
       "    <tr>\n",
       "      <th>...</th>\n",
       "      <td>...</td>\n",
       "      <td>...</td>\n",
       "      <td>...</td>\n",
       "      <td>...</td>\n",
       "      <td>...</td>\n",
       "      <td>...</td>\n",
       "      <td>...</td>\n",
       "      <td>...</td>\n",
       "      <td>...</td>\n",
       "      <td>...</td>\n",
       "    </tr>\n",
       "    <tr>\n",
       "      <th>12325</th>\n",
       "      <td>2020-11-04T00:00:00.000</td>\n",
       "      <td>2020-02-01T00:00:00.000</td>\n",
       "      <td>2020-10-31T00:00:00.000</td>\n",
       "      <td>PR</td>\n",
       "      <td>COVID-19</td>\n",
       "      <td>COVID-19</td>\n",
       "      <td>U071</td>\n",
       "      <td>65-74</td>\n",
       "      <td>193</td>\n",
       "      <td>NaN</td>\n",
       "    </tr>\n",
       "    <tr>\n",
       "      <th>12326</th>\n",
       "      <td>2020-11-04T00:00:00.000</td>\n",
       "      <td>2020-02-01T00:00:00.000</td>\n",
       "      <td>2020-10-31T00:00:00.000</td>\n",
       "      <td>PR</td>\n",
       "      <td>COVID-19</td>\n",
       "      <td>COVID-19</td>\n",
       "      <td>U071</td>\n",
       "      <td>75-84</td>\n",
       "      <td>202</td>\n",
       "      <td>NaN</td>\n",
       "    </tr>\n",
       "    <tr>\n",
       "      <th>12327</th>\n",
       "      <td>2020-11-04T00:00:00.000</td>\n",
       "      <td>2020-02-01T00:00:00.000</td>\n",
       "      <td>2020-10-31T00:00:00.000</td>\n",
       "      <td>PR</td>\n",
       "      <td>COVID-19</td>\n",
       "      <td>COVID-19</td>\n",
       "      <td>U071</td>\n",
       "      <td>85+</td>\n",
       "      <td>147</td>\n",
       "      <td>NaN</td>\n",
       "    </tr>\n",
       "    <tr>\n",
       "      <th>12328</th>\n",
       "      <td>2020-11-04T00:00:00.000</td>\n",
       "      <td>2020-02-01T00:00:00.000</td>\n",
       "      <td>2020-10-31T00:00:00.000</td>\n",
       "      <td>PR</td>\n",
       "      <td>COVID-19</td>\n",
       "      <td>COVID-19</td>\n",
       "      <td>U071</td>\n",
       "      <td>Not stated</td>\n",
       "      <td>0</td>\n",
       "      <td>NaN</td>\n",
       "    </tr>\n",
       "    <tr>\n",
       "      <th>12329</th>\n",
       "      <td>2020-11-04T00:00:00.000</td>\n",
       "      <td>2020-02-01T00:00:00.000</td>\n",
       "      <td>2020-10-31T00:00:00.000</td>\n",
       "      <td>PR</td>\n",
       "      <td>COVID-19</td>\n",
       "      <td>COVID-19</td>\n",
       "      <td>U071</td>\n",
       "      <td>All Ages</td>\n",
       "      <td>744</td>\n",
       "      <td>NaN</td>\n",
       "    </tr>\n",
       "  </tbody>\n",
       "</table>\n",
       "<p>12330 rows × 10 columns</p>\n",
       "</div>"
      ],
      "text/plain": [
       "                    data_as_of               start_week  \\\n",
       "0      2020-11-04T00:00:00.000  2020-02-01T00:00:00.000   \n",
       "1      2020-11-04T00:00:00.000  2020-02-01T00:00:00.000   \n",
       "2      2020-11-04T00:00:00.000  2020-02-01T00:00:00.000   \n",
       "3      2020-11-04T00:00:00.000  2020-02-01T00:00:00.000   \n",
       "4      2020-11-04T00:00:00.000  2020-02-01T00:00:00.000   \n",
       "...                        ...                      ...   \n",
       "12325  2020-11-04T00:00:00.000  2020-02-01T00:00:00.000   \n",
       "12326  2020-11-04T00:00:00.000  2020-02-01T00:00:00.000   \n",
       "12327  2020-11-04T00:00:00.000  2020-02-01T00:00:00.000   \n",
       "12328  2020-11-04T00:00:00.000  2020-02-01T00:00:00.000   \n",
       "12329  2020-11-04T00:00:00.000  2020-02-01T00:00:00.000   \n",
       "\n",
       "                      end_week state       condition_group  \\\n",
       "0      2020-10-31T00:00:00.000    US  Respiratory diseases   \n",
       "1      2020-10-31T00:00:00.000    US  Respiratory diseases   \n",
       "2      2020-10-31T00:00:00.000    US  Respiratory diseases   \n",
       "3      2020-10-31T00:00:00.000    US  Respiratory diseases   \n",
       "4      2020-10-31T00:00:00.000    US  Respiratory diseases   \n",
       "...                        ...   ...                   ...   \n",
       "12325  2020-10-31T00:00:00.000    PR              COVID-19   \n",
       "12326  2020-10-31T00:00:00.000    PR              COVID-19   \n",
       "12327  2020-10-31T00:00:00.000    PR              COVID-19   \n",
       "12328  2020-10-31T00:00:00.000    PR              COVID-19   \n",
       "12329  2020-10-31T00:00:00.000    PR              COVID-19   \n",
       "\n",
       "                     condition icd10_codes   age_group number_covid19_deaths  \\\n",
       "0      Influenza and pneumonia     J09-J18        0-24                   160   \n",
       "1      Influenza and pneumonia     J09-J18       25-34                   764   \n",
       "2      Influenza and pneumonia     J09-J18       35-44                  1951   \n",
       "3      Influenza and pneumonia     J09-J18       45-54                  5526   \n",
       "4      Influenza and pneumonia     J09-J18       55-64                 13332   \n",
       "...                        ...         ...         ...                   ...   \n",
       "12325                 COVID-19        U071       65-74                   193   \n",
       "12326                 COVID-19        U071       75-84                   202   \n",
       "12327                 COVID-19        U071         85+                   147   \n",
       "12328                 COVID-19        U071  Not stated                     0   \n",
       "12329                 COVID-19        U071    All Ages                   744   \n",
       "\n",
       "      flag  \n",
       "0      NaN  \n",
       "1      NaN  \n",
       "2      NaN  \n",
       "3      NaN  \n",
       "4      NaN  \n",
       "...    ...  \n",
       "12325  NaN  \n",
       "12326  NaN  \n",
       "12327  NaN  \n",
       "12328  NaN  \n",
       "12329  NaN  \n",
       "\n",
       "[12330 rows x 10 columns]"
      ]
     },
     "execution_count": 119,
     "metadata": {},
     "output_type": "execute_result"
    }
   ],
   "source": [
    "#convert this list into a Pandas DataFrame\n",
    "results_df = pd.DataFrame.from_records(results) #convert list of dictionaries into DataFrame\n",
    "results_df"
   ]
  },
  {
   "cell_type": "markdown",
   "metadata": {},
   "source": [
    "Note: when number_covid19_deaths = nan, there are so few deaths (between 1-9) that the actual number is redacted for privacy purposes"
   ]
  },
  {
   "cell_type": "code",
   "execution_count": 120,
   "metadata": {},
   "outputs": [
    {
     "data": {
      "text/plain": [
       "Index(['data_as_of', 'start_week', 'end_week', 'state', 'condition_group',\n",
       "       'condition', 'icd10_codes', 'age_group', 'number_covid19_deaths',\n",
       "       'flag'],\n",
       "      dtype='object')"
      ]
     },
     "execution_count": 120,
     "metadata": {},
     "output_type": "execute_result"
    }
   ],
   "source": [
    "results_df.columns"
   ]
  },
  {
   "cell_type": "code",
   "execution_count": 188,
   "metadata": {},
   "outputs": [
    {
     "data": {
      "text/html": [
       "<div>\n",
       "<style scoped>\n",
       "    .dataframe tbody tr th:only-of-type {\n",
       "        vertical-align: middle;\n",
       "    }\n",
       "\n",
       "    .dataframe tbody tr th {\n",
       "        vertical-align: top;\n",
       "    }\n",
       "\n",
       "    .dataframe thead th {\n",
       "        text-align: right;\n",
       "    }\n",
       "</style>\n",
       "<table border=\"1\" class=\"dataframe\">\n",
       "  <thead>\n",
       "    <tr style=\"text-align: right;\">\n",
       "      <th></th>\n",
       "      <th>condition</th>\n",
       "    </tr>\n",
       "    <tr>\n",
       "      <th>icd10_codes</th>\n",
       "      <th></th>\n",
       "    </tr>\n",
       "  </thead>\n",
       "  <tbody>\n",
       "    <tr>\n",
       "      <th>J09-J18</th>\n",
       "      <td>Influenza and pneumonia</td>\n",
       "    </tr>\n",
       "    <tr>\n",
       "      <th>J40-J47</th>\n",
       "      <td>Chronic lower respiratory diseases</td>\n",
       "    </tr>\n",
       "    <tr>\n",
       "      <th>J80</th>\n",
       "      <td>Adult respiratory distress syndrome</td>\n",
       "    </tr>\n",
       "    <tr>\n",
       "      <th>J96</th>\n",
       "      <td>Respiratory failure</td>\n",
       "    </tr>\n",
       "    <tr>\n",
       "      <th>R09.2</th>\n",
       "      <td>Respiratory arrest</td>\n",
       "    </tr>\n",
       "    <tr>\n",
       "      <th>J00-J06, J20-J39, J60-J70, J81-J86, J90-J95, J97-J99, U04</th>\n",
       "      <td>Other diseases of the respiratory system</td>\n",
       "    </tr>\n",
       "    <tr>\n",
       "      <th>I10-I15</th>\n",
       "      <td>Hypertensive diseases</td>\n",
       "    </tr>\n",
       "    <tr>\n",
       "      <th>I20-I25</th>\n",
       "      <td>Ischemic heart disease</td>\n",
       "    </tr>\n",
       "    <tr>\n",
       "      <th>I46</th>\n",
       "      <td>Cardiac arrest</td>\n",
       "    </tr>\n",
       "    <tr>\n",
       "      <th>I44, I45, I47-I49</th>\n",
       "      <td>Cardiac arrhythmia</td>\n",
       "    </tr>\n",
       "    <tr>\n",
       "      <th>I50</th>\n",
       "      <td>Heart failure</td>\n",
       "    </tr>\n",
       "    <tr>\n",
       "      <th>I60-I69</th>\n",
       "      <td>Cerebrovascular diseases</td>\n",
       "    </tr>\n",
       "    <tr>\n",
       "      <th>I00-I09, I26-I43, I51, I52, I70-I99</th>\n",
       "      <td>Other diseases of the circulatory system</td>\n",
       "    </tr>\n",
       "    <tr>\n",
       "      <th>A40-A41</th>\n",
       "      <td>Sepsis</td>\n",
       "    </tr>\n",
       "    <tr>\n",
       "      <th>C00-C97</th>\n",
       "      <td>Malignant neoplasms</td>\n",
       "    </tr>\n",
       "    <tr>\n",
       "      <th>E10-E14</th>\n",
       "      <td>Diabetes</td>\n",
       "    </tr>\n",
       "    <tr>\n",
       "      <th>E65-E68</th>\n",
       "      <td>Obesity</td>\n",
       "    </tr>\n",
       "    <tr>\n",
       "      <th>G30</th>\n",
       "      <td>Alzheimer disease</td>\n",
       "    </tr>\n",
       "    <tr>\n",
       "      <th>F01, F03</th>\n",
       "      <td>Vascular and unspecified dementia</td>\n",
       "    </tr>\n",
       "    <tr>\n",
       "      <th>N17-N19</th>\n",
       "      <td>Renal failure</td>\n",
       "    </tr>\n",
       "    <tr>\n",
       "      <th>S00-T98, V01-X59, X60-X84, X85-Y09, Y10-Y36, Y40-Y89, U01-U03</th>\n",
       "      <td>Intentional and unintentional injury, poisonin...</td>\n",
       "    </tr>\n",
       "    <tr>\n",
       "      <th>A00-A39, A42-B99, D00-E07, E15-E64, E70-E90, F00, F02, F04-G26, G31-H95, K00-K93, L00-M99, N00-N16, N20-N98, O00-O99, P00-P96, Q00-Q99, R00-R08, R09.0, R09.1, R09.3, R09.8, R10-R99</th>\n",
       "      <td>All other conditions and causes (residual)</td>\n",
       "    </tr>\n",
       "    <tr>\n",
       "      <th>U071</th>\n",
       "      <td>COVID-19</td>\n",
       "    </tr>\n",
       "  </tbody>\n",
       "</table>\n",
       "</div>"
      ],
      "text/plain": [
       "                                                                                            condition\n",
       "icd10_codes                                                                                          \n",
       "J09-J18                                                                       Influenza and pneumonia\n",
       "J40-J47                                                            Chronic lower respiratory diseases\n",
       "J80                                                               Adult respiratory distress syndrome\n",
       "J96                                                                               Respiratory failure\n",
       "R09.2                                                                              Respiratory arrest\n",
       "J00-J06, J20-J39, J60-J70, J81-J86, J90-J95, J9...           Other diseases of the respiratory system\n",
       "I10-I15                                                                         Hypertensive diseases\n",
       "I20-I25                                                                        Ischemic heart disease\n",
       "I46                                                                                    Cardiac arrest\n",
       "I44, I45, I47-I49                                                                  Cardiac arrhythmia\n",
       "I50                                                                                     Heart failure\n",
       "I60-I69                                                                      Cerebrovascular diseases\n",
       "I00-I09, I26-I43, I51, I52, I70-I99                          Other diseases of the circulatory system\n",
       "A40-A41                                                                                        Sepsis\n",
       "C00-C97                                                                           Malignant neoplasms\n",
       "E10-E14                                                                                      Diabetes\n",
       "E65-E68                                                                                       Obesity\n",
       "G30                                                                                 Alzheimer disease\n",
       "F01, F03                                                            Vascular and unspecified dementia\n",
       "N17-N19                                                                                 Renal failure\n",
       "S00-T98, V01-X59, X60-X84, X85-Y09, Y10-Y36, Y4...  Intentional and unintentional injury, poisonin...\n",
       "A00-A39, A42-B99, D00-E07, E15-E64, E70-E90, F0...         All other conditions and causes (residual)\n",
       "U071                                                                                         COVID-19"
      ]
     },
     "execution_count": 188,
     "metadata": {},
     "output_type": "execute_result"
    }
   ],
   "source": [
    "#quick lookup table to match icd10 code to the condition\n",
    "\n",
    "icd10_codes = results_df[['condition','icd10_codes']].set_index('icd10_codes')\n",
    "icd10_codes = icd10_codes.drop_duplicates()\n",
    "icd10_codes"
   ]
  },
  {
   "cell_type": "code",
   "execution_count": 189,
   "metadata": {},
   "outputs": [
    {
     "data": {
      "text/plain": [
       "array(['Influenza and pneumonia', 'Chronic lower respiratory diseases',\n",
       "       'Adult respiratory distress syndrome', 'Respiratory failure',\n",
       "       'Respiratory arrest', 'Other diseases of the respiratory system',\n",
       "       'Hypertensive diseases', 'Ischemic heart disease',\n",
       "       'Cardiac arrest', 'Cardiac arrhythmia', 'Heart failure',\n",
       "       'Cerebrovascular diseases',\n",
       "       'Other diseases of the circulatory system', 'Sepsis',\n",
       "       'Malignant neoplasms', 'Diabetes', 'Obesity', 'Alzheimer disease',\n",
       "       'Vascular and unspecified dementia', 'Renal failure',\n",
       "       'Intentional and unintentional injury, poisoning, and other adverse events',\n",
       "       'All other conditions and causes (residual)', 'COVID-19'],\n",
       "      dtype=object)"
      ]
     },
     "execution_count": 189,
     "metadata": {},
     "output_type": "execute_result"
    }
   ],
   "source": [
    "results_df['condition'].unique()"
   ]
  },
  {
   "cell_type": "code",
   "execution_count": 121,
   "metadata": {},
   "outputs": [
    {
     "data": {
      "text/plain": [
       "array(['J09-J18', 'J40-J47', 'J80', 'J96', 'R09.2',\n",
       "       'J00-J06, J20-J39, J60-J70, J81-J86, J90-J95, J97-J99, U04',\n",
       "       'I10-I15', 'I20-I25', 'I46', 'I44, I45, I47-I49', 'I50', 'I60-I69',\n",
       "       'I00-I09, I26-I43, I51, I52, I70-I99', 'A40-A41', 'C00-C97',\n",
       "       'E10-E14', 'E65-E68', 'G30', 'F01, F03', 'N17-N19',\n",
       "       'S00-T98, V01-X59, X60-X84, X85-Y09, Y10-Y36, Y40-Y89, U01-U03',\n",
       "       'A00-A39, A42-B99, D00-E07, E15-E64, E70-E90, F00, F02, F04-G26, G31-H95, K00-K93, L00-M99, N00-N16, N20-N98, O00-O99, P00-P96, Q00-Q99, R00-R08, R09.0, R09.1, R09.3, R09.8, R10-R99',\n",
       "       'U071'], dtype=object)"
      ]
     },
     "execution_count": 121,
     "metadata": {},
     "output_type": "execute_result"
    }
   ],
   "source": [
    "results_df['icd10_codes'].unique()"
   ]
  },
  {
   "cell_type": "code",
   "execution_count": 122,
   "metadata": {},
   "outputs": [
    {
     "data": {
      "text/plain": [
       "23"
      ]
     },
     "execution_count": 122,
     "metadata": {},
     "output_type": "execute_result"
    }
   ],
   "source": [
    "results_df['condition'].nunique()"
   ]
  },
  {
   "cell_type": "code",
   "execution_count": 123,
   "metadata": {},
   "outputs": [
    {
     "data": {
      "text/html": [
       "<div>\n",
       "<style scoped>\n",
       "    .dataframe tbody tr th:only-of-type {\n",
       "        vertical-align: middle;\n",
       "    }\n",
       "\n",
       "    .dataframe tbody tr th {\n",
       "        vertical-align: top;\n",
       "    }\n",
       "\n",
       "    .dataframe thead th {\n",
       "        text-align: right;\n",
       "    }\n",
       "</style>\n",
       "<table border=\"1\" class=\"dataframe\">\n",
       "  <thead>\n",
       "    <tr style=\"text-align: right;\">\n",
       "      <th></th>\n",
       "      <th>state</th>\n",
       "      <th>condition_group</th>\n",
       "      <th>condition</th>\n",
       "      <th>icd10_codes</th>\n",
       "      <th>age_group</th>\n",
       "      <th>number_covid19_deaths</th>\n",
       "    </tr>\n",
       "  </thead>\n",
       "  <tbody>\n",
       "    <tr>\n",
       "      <th>0</th>\n",
       "      <td>US</td>\n",
       "      <td>Respiratory diseases</td>\n",
       "      <td>Influenza and pneumonia</td>\n",
       "      <td>J09-J18</td>\n",
       "      <td>0-24</td>\n",
       "      <td>160</td>\n",
       "    </tr>\n",
       "    <tr>\n",
       "      <th>1</th>\n",
       "      <td>US</td>\n",
       "      <td>Respiratory diseases</td>\n",
       "      <td>Influenza and pneumonia</td>\n",
       "      <td>J09-J18</td>\n",
       "      <td>25-34</td>\n",
       "      <td>764</td>\n",
       "    </tr>\n",
       "    <tr>\n",
       "      <th>2</th>\n",
       "      <td>US</td>\n",
       "      <td>Respiratory diseases</td>\n",
       "      <td>Influenza and pneumonia</td>\n",
       "      <td>J09-J18</td>\n",
       "      <td>35-44</td>\n",
       "      <td>1951</td>\n",
       "    </tr>\n",
       "    <tr>\n",
       "      <th>3</th>\n",
       "      <td>US</td>\n",
       "      <td>Respiratory diseases</td>\n",
       "      <td>Influenza and pneumonia</td>\n",
       "      <td>J09-J18</td>\n",
       "      <td>45-54</td>\n",
       "      <td>5526</td>\n",
       "    </tr>\n",
       "    <tr>\n",
       "      <th>4</th>\n",
       "      <td>US</td>\n",
       "      <td>Respiratory diseases</td>\n",
       "      <td>Influenza and pneumonia</td>\n",
       "      <td>J09-J18</td>\n",
       "      <td>55-64</td>\n",
       "      <td>13332</td>\n",
       "    </tr>\n",
       "    <tr>\n",
       "      <th>...</th>\n",
       "      <td>...</td>\n",
       "      <td>...</td>\n",
       "      <td>...</td>\n",
       "      <td>...</td>\n",
       "      <td>...</td>\n",
       "      <td>...</td>\n",
       "    </tr>\n",
       "    <tr>\n",
       "      <th>12325</th>\n",
       "      <td>PR</td>\n",
       "      <td>COVID-19</td>\n",
       "      <td>COVID-19</td>\n",
       "      <td>U071</td>\n",
       "      <td>65-74</td>\n",
       "      <td>193</td>\n",
       "    </tr>\n",
       "    <tr>\n",
       "      <th>12326</th>\n",
       "      <td>PR</td>\n",
       "      <td>COVID-19</td>\n",
       "      <td>COVID-19</td>\n",
       "      <td>U071</td>\n",
       "      <td>75-84</td>\n",
       "      <td>202</td>\n",
       "    </tr>\n",
       "    <tr>\n",
       "      <th>12327</th>\n",
       "      <td>PR</td>\n",
       "      <td>COVID-19</td>\n",
       "      <td>COVID-19</td>\n",
       "      <td>U071</td>\n",
       "      <td>85+</td>\n",
       "      <td>147</td>\n",
       "    </tr>\n",
       "    <tr>\n",
       "      <th>12328</th>\n",
       "      <td>PR</td>\n",
       "      <td>COVID-19</td>\n",
       "      <td>COVID-19</td>\n",
       "      <td>U071</td>\n",
       "      <td>Not stated</td>\n",
       "      <td>0</td>\n",
       "    </tr>\n",
       "    <tr>\n",
       "      <th>12329</th>\n",
       "      <td>PR</td>\n",
       "      <td>COVID-19</td>\n",
       "      <td>COVID-19</td>\n",
       "      <td>U071</td>\n",
       "      <td>All Ages</td>\n",
       "      <td>744</td>\n",
       "    </tr>\n",
       "  </tbody>\n",
       "</table>\n",
       "<p>9339 rows × 6 columns</p>\n",
       "</div>"
      ],
      "text/plain": [
       "      state       condition_group                condition icd10_codes  \\\n",
       "0        US  Respiratory diseases  Influenza and pneumonia     J09-J18   \n",
       "1        US  Respiratory diseases  Influenza and pneumonia     J09-J18   \n",
       "2        US  Respiratory diseases  Influenza and pneumonia     J09-J18   \n",
       "3        US  Respiratory diseases  Influenza and pneumonia     J09-J18   \n",
       "4        US  Respiratory diseases  Influenza and pneumonia     J09-J18   \n",
       "...     ...                   ...                      ...         ...   \n",
       "12325    PR              COVID-19                 COVID-19        U071   \n",
       "12326    PR              COVID-19                 COVID-19        U071   \n",
       "12327    PR              COVID-19                 COVID-19        U071   \n",
       "12328    PR              COVID-19                 COVID-19        U071   \n",
       "12329    PR              COVID-19                 COVID-19        U071   \n",
       "\n",
       "        age_group  number_covid19_deaths  \n",
       "0            0-24                    160  \n",
       "1           25-34                    764  \n",
       "2           35-44                   1951  \n",
       "3           45-54                   5526  \n",
       "4           55-64                  13332  \n",
       "...           ...                    ...  \n",
       "12325       65-74                    193  \n",
       "12326       75-84                    202  \n",
       "12327         85+                    147  \n",
       "12328  Not stated                      0  \n",
       "12329    All Ages                    744  \n",
       "\n",
       "[9339 rows x 6 columns]"
      ]
     },
     "execution_count": 123,
     "metadata": {},
     "output_type": "execute_result"
    }
   ],
   "source": [
    "#time for preprocessing\n",
    "\n",
    "keep_cols = ['state','condition_group','condition','icd10_codes','age_group','number_covid19_deaths']\n",
    "results_df = results_df.dropna(subset = ['number_covid19_deaths'])\n",
    "results_df = results_df[keep_cols]\n",
    "results_df['number_covid19_deaths'] = results_df['number_covid19_deaths'].astype(int) #make sure that this column is numeric data\n",
    "results_df"
   ]
  },
  {
   "cell_type": "code",
   "execution_count": 166,
   "metadata": {},
   "outputs": [
    {
     "data": {
      "text/plain": [
       "['A00-A39',\n",
       " 'A42-B99',\n",
       " 'D00-E07',\n",
       " 'E15-E64',\n",
       " 'E70-E90',\n",
       " 'F00',\n",
       " 'F02',\n",
       " 'F04-G26',\n",
       " 'G31-H95',\n",
       " 'K00-K93',\n",
       " 'L00-M99',\n",
       " 'N00-N16',\n",
       " 'N20-N98',\n",
       " 'O00-O99',\n",
       " 'P00-P96',\n",
       " 'Q00-Q99',\n",
       " 'R00-R08',\n",
       " 'R09.0',\n",
       " 'R09.1',\n",
       " 'R09.3',\n",
       " 'R09.8',\n",
       " 'R10-R99']"
      ]
     },
     "execution_count": 166,
     "metadata": {},
     "output_type": "execute_result"
    }
   ],
   "source": [
    "#find out what is included under \"all other conditions\" by looking at the icd10 codes encompassed\n",
    "\n",
    "other_conditions = results_df[results_df['condition'] == 'All other conditions and causes (residual)']\n",
    "other_conditions['icd10_codes'].unique()\n",
    "oc_string = other_conditions['icd10_codes'].iloc[0]\n",
    "other_conditions = oc_string.split(', ')\n",
    "other_conditions"
   ]
  },
  {
   "cell_type": "markdown",
   "metadata": {},
   "source": [
    "Big issue: determining if these are pre-existing conditions or symptoms of covid"
   ]
  },
  {
   "cell_type": "code",
   "execution_count": 203,
   "metadata": {},
   "outputs": [
    {
     "name": "stdout",
     "output_type": "stream",
     "text": [
      "870545 2505342 False\n"
     ]
    },
    {
     "data": {
      "text/plain": [
       "condition\n",
       "COVID-19                                                                     870545\n",
       "All other conditions and causes (residual)                                   450080\n",
       "Influenza and pneumonia                                                      377626\n",
       "Respiratory failure                                                          305499\n",
       "Hypertensive diseases                                                        187171\n",
       "Diabetes                                                                     142550\n",
       "Adult respiratory distress syndrome                                          110751\n",
       "Cardiac arrest                                                               104672\n",
       "Ischemic heart disease                                                        99300\n",
       "Vascular and unspecified dementia                                             97423\n",
       "Sepsis                                                                        82040\n",
       "Renal failure                                                                 78489\n",
       "Chronic lower respiratory diseases                                            76166\n",
       "Heart failure                                                                 58908\n",
       "Cardiac arrhythmia                                                            56093\n",
       "Other diseases of the circulatory system                                      50170\n",
       "Cerebrovascular diseases                                                      43047\n",
       "Malignant neoplasms                                                           40541\n",
       "Other diseases of the respiratory system                                      32715\n",
       "Obesity                                                                       32231\n",
       "Alzheimer disease                                                             32099\n",
       "Intentional and unintentional injury, poisoning, and other adverse events     30572\n",
       "Respiratory arrest                                                            17199\n",
       "Name: number_covid19_deaths, dtype: int32"
      ]
     },
     "execution_count": 203,
     "metadata": {},
     "output_type": "execute_result"
    }
   ],
   "source": [
    "#group covid deaths by coinciding condition\n",
    "\n",
    "covid_conditions = results_df.groupby('condition').agg({'number_covid19_deaths': 'sum'}).iloc[:,0]\n",
    "\n",
    "#seems like some individuals have multiple conditions\n",
    "total_deaths = covid_conditions['COVID-19']\n",
    "cause_deaths = covid_conditions.sum() - total_deaths\n",
    "print(total_deaths, cause_deaths, total_deaths == cause_deaths)\n",
    "\n",
    "covid_conditions = covid_conditions.sort_values(ascending = False)\n",
    "covid_conditions"
   ]
  },
  {
   "cell_type": "code",
   "execution_count": 219,
   "metadata": {},
   "outputs": [
    {
     "data": {
      "text/plain": [
       "Text(0.5, 1.0, 'Number Covid Deaths related to Condition')"
      ]
     },
     "execution_count": 219,
     "metadata": {},
     "output_type": "execute_result"
    },
    {
     "data": {
      "image/png": "[encoded data removed]",
      "text/plain": [
       "<Figure size 720x360 with 1 Axes>"
      ]
     },
     "metadata": {
      "needs_background": "light"
     },
     "output_type": "display_data"
    }
   ],
   "source": [
    "#zooming in on the big 10\n",
    "\n",
    "plt.figure(figsize = (10,5))\n",
    "covid_conditions.nlargest(10).plot(kind = 'bar')\n",
    "plt.xticks(rotation = 85)\n",
    "plt.ylabel('Deaths')\n",
    "plt.title('Number Covid Deaths related to Condition')"
   ]
  },
  {
   "cell_type": "code",
   "execution_count": null,
   "metadata": {},
   "outputs": [],
   "source": []
  }
 ],
 "metadata": {
  "kernelspec": {
   "display_name": "Python 3",
   "language": "python",
   "name": "python3"
  },
  "language_info": {
   "codemirror_mode": {
    "name": "ipython",
    "version": 3
   },
   "file_extension": ".py",
   "mimetype": "text/x-python",
   "name": "python",
   "nbconvert_exporter": "python",
   "pygments_lexer": "ipython3",
   "version": "3.8.5"
  }
 },
 "nbformat": 4,
 "nbformat_minor": 4
}
