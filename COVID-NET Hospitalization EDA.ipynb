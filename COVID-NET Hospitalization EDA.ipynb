{
 "cells": [
  {
   "cell_type": "markdown",
   "metadata": {},
   "source": [
    "csv dataset from here: https://gis.cdc.gov/grasp/COVIDNet/COVID19_5.html\n",
    "\n",
    "\n",
    "\"COVID-NET: COVID-19-Associated Hospitalization Surveillance Network, Centers for Disease Control and Prevention. WEBSITE. Accessed on November 16, 2020\".\n",
    "\n",
    "dataset updated weekly"
   ]
  },
  {
   "cell_type": "markdown",
   "metadata": {},
   "source": [
    "# COVID-NET Hospitalization Dataset EDA\n",
    "\n",
    "This is a dataset of confirmed or probable hospitalizations due to COVID in select areas\n",
    "\n",
    "description from: https://www.cdc.gov/coronavirus/2019-ncov/covid-data/covid-net/purpose-methods.html\n",
    "\n",
    "## How COVID-NET Hospitalization Data Is Different from Hospitalizations Reported in National and State Case Counts\n",
    "COVID-NET differs from hospitalizations reported in national and state case counts in two ways. First, state and national COVID-19 case reporting are based on all people who test positive for COVID-19 in the United States. COVID-NET is limited to COVID-19-associated hospitalizations captured in the COVID-NET surveillance area. Second, COVID-NET reports rates and not just counts. These rates show how many people are hospitalized with COVID-19 in the surveillance area, compared to the entire number of people residing in that area."
   ]
  },
  {
   "cell_type": "markdown",
   "metadata": {},
   "source": [
    "### Loading in the dataset"
   ]
  },
  {
   "cell_type": "code",
   "execution_count": 2,
   "metadata": {},
   "outputs": [],
   "source": [
    "#import libraries\n",
    "\n",
    "import pandas as pd\n",
    "import matplotlib.pyplot as plt"
   ]
  },
  {
   "cell_type": "code",
   "execution_count": 3,
   "metadata": {},
   "outputs": [
    {
     "name": "stderr",
     "output_type": "stream",
     "text": [
      "<ipython-input-3-08afd829299b>:7: ParserWarning: Falling back to the 'python' engine because the 'c' engine does not support skipfooter; you can avoid this warning by specifying engine='python'.\n",
      "  df = pd.read_csv(FILENAME, skiprows = 2, skipfooter = 4, encoding = \"ISO-8859-1\")\n"
     ]
    },
    {
     "data": {
      "text/html": [
       "<div>\n",
       "<style scoped>\n",
       "    .dataframe tbody tr th:only-of-type {\n",
       "        vertical-align: middle;\n",
       "    }\n",
       "\n",
       "    .dataframe tbody tr th {\n",
       "        vertical-align: top;\n",
       "    }\n",
       "\n",
       "    .dataframe thead th {\n",
       "        text-align: right;\n",
       "    }\n",
       "</style>\n",
       "<table border=\"1\" class=\"dataframe\">\n",
       "  <thead>\n",
       "    <tr style=\"text-align: right;\">\n",
       "      <th></th>\n",
       "      <th>Primary Strata</th>\n",
       "      <th>Primary Strata Name</th>\n",
       "      <th>Secondary Strata</th>\n",
       "      <th>Secondary Strata Name</th>\n",
       "      <th>Count</th>\n",
       "      <th>Percent</th>\n",
       "    </tr>\n",
       "  </thead>\n",
       "  <tbody>\n",
       "    <tr>\n",
       "      <th>0</th>\n",
       "      <td>Age</td>\n",
       "      <td>0-4 yr</td>\n",
       "      <td>Sex</td>\n",
       "      <td>Male</td>\n",
       "      <td>241.0</td>\n",
       "      <td>55.8</td>\n",
       "    </tr>\n",
       "    <tr>\n",
       "      <th>1</th>\n",
       "      <td>Age</td>\n",
       "      <td>0-4 yr</td>\n",
       "      <td>Sex</td>\n",
       "      <td>Female</td>\n",
       "      <td>191.0</td>\n",
       "      <td>44.2</td>\n",
       "    </tr>\n",
       "    <tr>\n",
       "      <th>2</th>\n",
       "      <td>Age</td>\n",
       "      <td>0-4 yr</td>\n",
       "      <td>Race/Ethnicity</td>\n",
       "      <td>White</td>\n",
       "      <td>64.0</td>\n",
       "      <td>15.5</td>\n",
       "    </tr>\n",
       "    <tr>\n",
       "      <th>3</th>\n",
       "      <td>Age</td>\n",
       "      <td>0-4 yr</td>\n",
       "      <td>Race/Ethnicity</td>\n",
       "      <td>Black</td>\n",
       "      <td>125.0</td>\n",
       "      <td>30.3</td>\n",
       "    </tr>\n",
       "    <tr>\n",
       "      <th>4</th>\n",
       "      <td>Age</td>\n",
       "      <td>0-4 yr</td>\n",
       "      <td>Race/Ethnicity</td>\n",
       "      <td>Hispanic/Latino</td>\n",
       "      <td>172.0</td>\n",
       "      <td>41.6</td>\n",
       "    </tr>\n",
       "    <tr>\n",
       "      <th>...</th>\n",
       "      <td>...</td>\n",
       "      <td>...</td>\n",
       "      <td>...</td>\n",
       "      <td>...</td>\n",
       "      <td>...</td>\n",
       "      <td>...</td>\n",
       "    </tr>\n",
       "    <tr>\n",
       "      <th>1053</th>\n",
       "      <td>Mechanical ventilation</td>\n",
       "      <td>No</td>\n",
       "      <td>Race/Ethnicity</td>\n",
       "      <td>Black</td>\n",
       "      <td>NaN</td>\n",
       "      <td>33.2</td>\n",
       "    </tr>\n",
       "    <tr>\n",
       "      <th>1054</th>\n",
       "      <td>Mechanical ventilation</td>\n",
       "      <td>No</td>\n",
       "      <td>Race/Ethnicity</td>\n",
       "      <td>Hispanic/Latino</td>\n",
       "      <td>NaN</td>\n",
       "      <td>22.1</td>\n",
       "    </tr>\n",
       "    <tr>\n",
       "      <th>1055</th>\n",
       "      <td>Mechanical ventilation</td>\n",
       "      <td>No</td>\n",
       "      <td>Race/Ethnicity</td>\n",
       "      <td>Asian/Pacific Islander</td>\n",
       "      <td>NaN</td>\n",
       "      <td>4.3</td>\n",
       "    </tr>\n",
       "    <tr>\n",
       "      <th>1056</th>\n",
       "      <td>Mechanical ventilation</td>\n",
       "      <td>No</td>\n",
       "      <td>Race/Ethnicity</td>\n",
       "      <td>American Indian/Alaska Native</td>\n",
       "      <td>NaN</td>\n",
       "      <td>1.3</td>\n",
       "    </tr>\n",
       "    <tr>\n",
       "      <th>1057</th>\n",
       "      <td>Mechanical ventilation</td>\n",
       "      <td>No</td>\n",
       "      <td>Race/Ethnicity</td>\n",
       "      <td>Other</td>\n",
       "      <td>NaN</td>\n",
       "      <td>2.8</td>\n",
       "    </tr>\n",
       "  </tbody>\n",
       "</table>\n",
       "<p>1058 rows × 6 columns</p>\n",
       "</div>"
      ],
      "text/plain": [
       "              Primary Strata Primary Strata Name Secondary Strata  \\\n",
       "0                        Age              0-4 yr              Sex   \n",
       "1                        Age              0-4 yr              Sex   \n",
       "2                        Age              0-4 yr   Race/Ethnicity   \n",
       "3                        Age              0-4 yr   Race/Ethnicity   \n",
       "4                        Age              0-4 yr   Race/Ethnicity   \n",
       "...                      ...                 ...              ...   \n",
       "1053  Mechanical ventilation          No           Race/Ethnicity   \n",
       "1054  Mechanical ventilation          No           Race/Ethnicity   \n",
       "1055  Mechanical ventilation          No           Race/Ethnicity   \n",
       "1056  Mechanical ventilation          No           Race/Ethnicity   \n",
       "1057  Mechanical ventilation          No           Race/Ethnicity   \n",
       "\n",
       "              Secondary Strata Name  Count  Percent  \n",
       "0                              Male  241.0     55.8  \n",
       "1                            Female  191.0     44.2  \n",
       "2                             White   64.0     15.5  \n",
       "3                             Black  125.0     30.3  \n",
       "4                   Hispanic/Latino  172.0     41.6  \n",
       "...                             ...    ...      ...  \n",
       "1053                          Black    NaN     33.2  \n",
       "1054                Hispanic/Latino    NaN     22.1  \n",
       "1055         Asian/Pacific Islander    NaN      4.3  \n",
       "1056  American Indian/Alaska Native    NaN      1.3  \n",
       "1057                          Other    NaN      2.8  \n",
       "\n",
       "[1058 rows x 6 columns]"
      ]
     },
     "execution_count": 3,
     "metadata": {},
     "output_type": "execute_result"
    }
   ],
   "source": [
    "FILENAME = 'Covid19Phase5Data/Characteristics.csv'\n",
    "\n",
    "# open up the file and read into a dataframe\n",
    "# need to specify encoding, because UTF will result in error\n",
    "# skip first 2 rows because they're just titles\n",
    "# skip last 4 rows because they're just footnotes\n",
    "df = pd.read_csv(FILENAME, skiprows = 2, skipfooter = 4, encoding = \"ISO-8859-1\")\n",
    "\n",
    "#display overview of dataset\n",
    "df"
   ]
  },
  {
   "cell_type": "markdown",
   "metadata": {},
   "source": [
    "### Looking at the categorical variables \"Primary Strata\" and \"Secondary Strata\""
   ]
  },
  {
   "cell_type": "code",
   "execution_count": 4,
   "metadata": {},
   "outputs": [
    {
     "data": {
      "text/plain": [
       "Primary Strata\n",
       "Age                       [0-4 yr, 5-17 yr, 18-49 yr, 50-64 yr, 65+ yr, ...\n",
       "In-hospital death                                  [Yes       , No        ]\n",
       "Intensive care unit                                [Yes       , No        ]\n",
       "Mechanical ventilation                             [Yes       , No        ]\n",
       "Race/Ethnicity            [White, Black, Hispanic/Latino, Asian/Pacific ...\n",
       "Sex                                                          [Male, Female]\n",
       "Name: Primary Strata Name, dtype: object"
      ]
     },
     "execution_count": 4,
     "metadata": {},
     "output_type": "execute_result"
    }
   ],
   "source": [
    "#determine what the categorical variables are and what values they take on\n",
    "\n",
    "#primary_strata is a pandas.Series\n",
    "#index is the categorical variables\n",
    "#value is list of values that categorical variable can take on\n",
    "\n",
    "primary_strata = df.groupby('Primary Strata')['Primary Strata Name'].unique()\n",
    "primary_strata"
   ]
  },
  {
   "cell_type": "code",
   "execution_count": 5,
   "metadata": {},
   "outputs": [
    {
     "name": "stdout",
     "output_type": "stream",
     "text": [
      "['White' 'Black' 'Hispanic/Latino' 'Asian/Pacific Islander'\n",
      " 'American Indian/Alaska Native' 'Other']\n"
     ]
    }
   ],
   "source": [
    "#looking at a specific primary strata\n",
    "#let's look at all values that race/ethnicity can be\n",
    "print(primary_strata['Race/Ethnicity'])"
   ]
  },
  {
   "cell_type": "code",
   "execution_count": 6,
   "metadata": {},
   "outputs": [
    {
     "data": {
      "text/plain": [
       "Secondary Strata\n",
       "Abdominal Pain                                                      [Yes       , No        ]\n",
       "Acute renal failure/acute kidney injury                             [Yes       , No        ]\n",
       "Acute respiratory distress syndrome                                 [Yes       , No        ]\n",
       "Acute respiratory failure                                           [Yes       , No        ]\n",
       "Age                                                             [18-49 yr, 50-64 yr, 65+ yr]\n",
       "Altered mental status/confusion                                     [Yes       , No        ]\n",
       "Anosmia/decreased smell                                             [Yes       , No        ]\n",
       "Asthma                                                              [Yes       , No        ]\n",
       "COPD/emphysema                                                      [Yes       , No        ]\n",
       "Chest pain                                                          [Yes       , No        ]\n",
       "Chronic kidney disease                                              [Yes       , No        ]\n",
       "Congested/runny nose                                                [Yes       , No        ]\n",
       "Coronary artery disease                                             [Yes       , No        ]\n",
       "Cough                                                               [Yes       , No        ]\n",
       "Diabetes                                                            [Yes       , No        ]\n",
       "Diarrhea                                                            [Yes       , No        ]\n",
       "Dysgeusia/decreased taste                                           [Yes       , No        ]\n",
       "Fever/chills                                                        [Yes       , No        ]\n",
       "Headache                                                            [Yes       , No        ]\n",
       "Heart failure                                                       [Yes       , No        ]\n",
       "Hemoptysis/bloody sputum                                            [Yes       , No        ]\n",
       "Hypertension                                                        [Yes       , No        ]\n",
       "In-hospital death                                                   [Yes       , No        ]\n",
       "Intensive care unit                                                 [Yes       , No        ]\n",
       "Mechanical ventilation                                              [Yes       , No        ]\n",
       "Muscle aches/myalgias                                               [Yes       , No        ]\n",
       "Nausea/vomiting                                                     [Yes       , No        ]\n",
       "Obesity                                                             [Yes       , No        ]\n",
       "Pneumonia                                                           [Yes       , No        ]\n",
       "Race/Ethnicity                             [White, Black, Hispanic/Latino, Asian/Pacific ...\n",
       "Sepsis                                                              [Yes       , No        ]\n",
       "Sex                                                                           [Male, Female]\n",
       "Shortness of breath                                                 [Yes       , No        ]\n",
       "Sore throat                                                         [Yes       , No        ]\n",
       "Wheezing                                                            [Yes       , No        ]\n",
       "Name: Secondary Strata Name, dtype: object"
      ]
     },
     "execution_count": 6,
     "metadata": {},
     "output_type": "execute_result"
    }
   ],
   "source": [
    "#secondary_strata is a pandas.Series\n",
    "#index is the categorical variables\n",
    "#value is list of values that categorical variable can take on\n",
    "\n",
    "secondary_strata = df.groupby('Secondary Strata')['Secondary Strata Name'].unique()\n",
    "secondary_strata"
   ]
  },
  {
   "cell_type": "code",
   "execution_count": 7,
   "metadata": {},
   "outputs": [
    {
     "data": {
      "text/plain": [
       "Primary Strata\n",
       "Age                       [Sex, Race/Ethnicity, In-hospital death, Inten...\n",
       "In-hospital death                                [Age, Sex, Race/Ethnicity]\n",
       "Intensive care unit                              [Age, Sex, Race/Ethnicity]\n",
       "Mechanical ventilation                           [Age, Sex, Race/Ethnicity]\n",
       "Race/Ethnicity            [Age, Sex, In-hospital death, Intensive care u...\n",
       "Sex                       [Age, Race/Ethnicity, In-hospital death, Inten...\n",
       "Name: Secondary Strata, dtype: object"
      ]
     },
     "execution_count": 7,
     "metadata": {},
     "output_type": "execute_result"
    }
   ],
   "source": [
    "#Now see what combos of \"Primary Strata\" and \"Secondary Strata\" are possible\n",
    "\n",
    "strata_combos = df.groupby('Primary Strata')['Secondary Strata'].unique()\n",
    "strata_combos"
   ]
  },
  {
   "cell_type": "code",
   "execution_count": 12,
   "metadata": {},
   "outputs": [
    {
     "name": "stdout",
     "output_type": "stream",
     "text": [
      "['Age' 'Race/Ethnicity' 'In-hospital death' 'Intensive care unit'\n",
      " 'Mechanical ventilation' 'Asthma' 'COPD/emphysema' 'Diabetes'\n",
      " 'Coronary artery disease' 'Heart failure' 'Hypertension' 'Obesity'\n",
      " 'Chronic kidney disease' 'Abdominal Pain'\n",
      " 'Altered mental status/confusion' 'Anosmia/decreased smell' 'Chest pain'\n",
      " 'Congested/runny nose' 'Cough' 'Diarrhea' 'Dysgeusia/decreased taste'\n",
      " 'Fever/chills' 'Headache' 'Hemoptysis/bloody sputum'\n",
      " 'Muscle aches/myalgias' 'Nausea/vomiting' 'Shortness of breath'\n",
      " 'Sore throat' 'Wheezing' 'Acute renal failure/acute kidney injury'\n",
      " 'Acute respiratory distress syndrome' 'Acute respiratory failure'\n",
      " 'Pneumonia' 'Sepsis']\n"
     ]
    }
   ],
   "source": [
    "#take a peek at all secondary strata that can be paired with the Primary Strata \"Sex\"\n",
    "print(strata_combos['Sex'])"
   ]
  },
  {
   "cell_type": "code",
   "execution_count": 9,
   "metadata": {},
   "outputs": [
    {
     "data": {
      "text/plain": [
       "Primary Strata  Secondary Strata                       \n",
       "Age             Abdominal Pain                             12\n",
       "                Acute renal failure/acute kidney injury    12\n",
       "                Acute respiratory distress syndrome        12\n",
       "                Acute respiratory failure                  12\n",
       "                Altered mental status/confusion            12\n",
       "                                                           ..\n",
       "Sex             Race/Ethnicity                             12\n",
       "                Sepsis                                      4\n",
       "                Shortness of breath                         4\n",
       "                Sore throat                                 4\n",
       "                Wheezing                                    4\n",
       "Length: 111, dtype: int64"
      ]
     },
     "execution_count": 9,
     "metadata": {},
     "output_type": "execute_result"
    }
   ],
   "source": [
    "#visualize # of examples of each possible strata combo\n",
    "\n",
    "#get number of possible combos for each strata combination\n",
    "#ie (Age = 0-4 yr, Abdominal Pain = Yes), (Age = 0-17 yr, Abdominal Pain = No) ...\n",
    "num_combos = df.groupby(['Primary Strata','Secondary Strata']).count().max(axis = 1)"
   ]
  },
  {
   "cell_type": "markdown",
   "metadata": {},
   "source": [
    "### Look for missing values"
   ]
  },
  {
   "cell_type": "code",
   "execution_count": 10,
   "metadata": {},
   "outputs": [
    {
     "data": {
      "text/plain": [
       "Primary Strata             0\n",
       "Primary Strata Name        0\n",
       "Secondary Strata           0\n",
       "Secondary Strata Name      0\n",
       "Count                    801\n",
       "Percent                   13\n",
       "dtype: int64"
      ]
     },
     "execution_count": 10,
     "metadata": {},
     "output_type": "execute_result"
    }
   ],
   "source": [
    "#there are some missing values NaN in the dataset\n",
    "#check number of missing values in each column\n",
    "\n",
    "df.isna().sum()"
   ]
  },
  {
   "cell_type": "code",
   "execution_count": 11,
   "metadata": {},
   "outputs": [
    {
     "data": {
      "text/html": [
       "<div>\n",
       "<style scoped>\n",
       "    .dataframe tbody tr th:only-of-type {\n",
       "        vertical-align: middle;\n",
       "    }\n",
       "\n",
       "    .dataframe tbody tr th {\n",
       "        vertical-align: top;\n",
       "    }\n",
       "\n",
       "    .dataframe thead th {\n",
       "        text-align: right;\n",
       "    }\n",
       "</style>\n",
       "<table border=\"1\" class=\"dataframe\">\n",
       "  <thead>\n",
       "    <tr style=\"text-align: right;\">\n",
       "      <th></th>\n",
       "      <th></th>\n",
       "      <th>Primary Strata Name</th>\n",
       "      <th>Secondary Strata Name</th>\n",
       "      <th>Count</th>\n",
       "      <th>Percent</th>\n",
       "    </tr>\n",
       "    <tr>\n",
       "      <th>Primary Strata</th>\n",
       "      <th>Secondary Strata</th>\n",
       "      <th></th>\n",
       "      <th></th>\n",
       "      <th></th>\n",
       "      <th></th>\n",
       "    </tr>\n",
       "  </thead>\n",
       "  <tbody>\n",
       "    <tr>\n",
       "      <th rowspan=\"5\" valign=\"top\">Age</th>\n",
       "      <th>Abdominal Pain</th>\n",
       "      <td>8</td>\n",
       "      <td>8</td>\n",
       "      <td>0</td>\n",
       "      <td>8</td>\n",
       "    </tr>\n",
       "    <tr>\n",
       "      <th>Acute renal failure/acute kidney injury</th>\n",
       "      <td>8</td>\n",
       "      <td>8</td>\n",
       "      <td>0</td>\n",
       "      <td>8</td>\n",
       "    </tr>\n",
       "    <tr>\n",
       "      <th>Acute respiratory distress syndrome</th>\n",
       "      <td>8</td>\n",
       "      <td>8</td>\n",
       "      <td>0</td>\n",
       "      <td>8</td>\n",
       "    </tr>\n",
       "    <tr>\n",
       "      <th>Acute respiratory failure</th>\n",
       "      <td>8</td>\n",
       "      <td>8</td>\n",
       "      <td>0</td>\n",
       "      <td>8</td>\n",
       "    </tr>\n",
       "    <tr>\n",
       "      <th>Altered mental status/confusion</th>\n",
       "      <td>8</td>\n",
       "      <td>8</td>\n",
       "      <td>0</td>\n",
       "      <td>8</td>\n",
       "    </tr>\n",
       "    <tr>\n",
       "      <th>...</th>\n",
       "      <th>...</th>\n",
       "      <td>...</td>\n",
       "      <td>...</td>\n",
       "      <td>...</td>\n",
       "      <td>...</td>\n",
       "    </tr>\n",
       "    <tr>\n",
       "      <th rowspan=\"5\" valign=\"top\">Sex</th>\n",
       "      <th>Pneumonia</th>\n",
       "      <td>4</td>\n",
       "      <td>4</td>\n",
       "      <td>0</td>\n",
       "      <td>4</td>\n",
       "    </tr>\n",
       "    <tr>\n",
       "      <th>Sepsis</th>\n",
       "      <td>4</td>\n",
       "      <td>4</td>\n",
       "      <td>0</td>\n",
       "      <td>4</td>\n",
       "    </tr>\n",
       "    <tr>\n",
       "      <th>Shortness of breath</th>\n",
       "      <td>4</td>\n",
       "      <td>4</td>\n",
       "      <td>0</td>\n",
       "      <td>4</td>\n",
       "    </tr>\n",
       "    <tr>\n",
       "      <th>Sore throat</th>\n",
       "      <td>4</td>\n",
       "      <td>4</td>\n",
       "      <td>0</td>\n",
       "      <td>4</td>\n",
       "    </tr>\n",
       "    <tr>\n",
       "      <th>Wheezing</th>\n",
       "      <td>4</td>\n",
       "      <td>4</td>\n",
       "      <td>0</td>\n",
       "      <td>4</td>\n",
       "    </tr>\n",
       "  </tbody>\n",
       "</table>\n",
       "<p>99 rows × 4 columns</p>\n",
       "</div>"
      ],
      "text/plain": [
       "                                                        Primary Strata Name  \\\n",
       "Primary Strata Secondary Strata                                               \n",
       "Age            Abdominal Pain                                             8   \n",
       "               Acute renal failure/acute kidney injury                    8   \n",
       "               Acute respiratory distress syndrome                        8   \n",
       "               Acute respiratory failure                                  8   \n",
       "               Altered mental status/confusion                            8   \n",
       "...                                                                     ...   \n",
       "Sex            Pneumonia                                                  4   \n",
       "               Sepsis                                                     4   \n",
       "               Shortness of breath                                        4   \n",
       "               Sore throat                                                4   \n",
       "               Wheezing                                                   4   \n",
       "\n",
       "                                                        Secondary Strata Name  \\\n",
       "Primary Strata Secondary Strata                                                 \n",
       "Age            Abdominal Pain                                               8   \n",
       "               Acute renal failure/acute kidney injury                      8   \n",
       "               Acute respiratory distress syndrome                          8   \n",
       "               Acute respiratory failure                                    8   \n",
       "               Altered mental status/confusion                              8   \n",
       "...                                                                       ...   \n",
       "Sex            Pneumonia                                                    4   \n",
       "               Sepsis                                                       4   \n",
       "               Shortness of breath                                          4   \n",
       "               Sore throat                                                  4   \n",
       "               Wheezing                                                     4   \n",
       "\n",
       "                                                        Count  Percent  \n",
       "Primary Strata Secondary Strata                                         \n",
       "Age            Abdominal Pain                               0        8  \n",
       "               Acute renal failure/acute kidney injury      0        8  \n",
       "               Acute respiratory distress syndrome          0        8  \n",
       "               Acute respiratory failure                    0        8  \n",
       "               Altered mental status/confusion              0        8  \n",
       "...                                                       ...      ...  \n",
       "Sex            Pneumonia                                    0        4  \n",
       "               Sepsis                                       0        4  \n",
       "               Shortness of breath                          0        4  \n",
       "               Sore throat                                  0        4  \n",
       "               Wheezing                                     0        4  \n",
       "\n",
       "[99 rows x 4 columns]"
      ]
     },
     "execution_count": 11,
     "metadata": {},
     "output_type": "execute_result"
    }
   ],
   "source": [
    "#determine where are the missing values\n",
    "\n",
    "missing = df[df.isna().any(axis=1)]\n",
    "\n",
    "a = missing.groupby(['Primary Strata', 'Secondary Strata']).count()\n",
    "\n",
    "a"
   ]
  },
  {
   "cell_type": "code",
   "execution_count": null,
   "metadata": {},
   "outputs": [],
   "source": []
  }
 ],
 "metadata": {
  "kernelspec": {
   "display_name": "Python 3",
   "language": "python",
   "name": "python3"
  },
  "language_info": {
   "codemirror_mode": {
    "name": "ipython",
    "version": 3
   },
   "file_extension": ".py",
   "mimetype": "text/x-python",
   "name": "python",
   "nbconvert_exporter": "python",
   "pygments_lexer": "ipython3",
   "version": "3.8.5"
  }
 },
 "nbformat": 4,
 "nbformat_minor": 4
}
